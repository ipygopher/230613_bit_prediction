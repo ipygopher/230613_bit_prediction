{
  "nbformat": 4,
  "nbformat_minor": 0,
  "metadata": {
    "colab": {
      "provenance": [],
      "include_colab_link": true
    },
    "kernelspec": {
      "name": "python3",
      "display_name": "Python 3"
    },
    "language_info": {
      "name": "python"
    }
  },
  "cells": [
    {
      "cell_type": "markdown",
      "metadata": {
        "id": "view-in-github",
        "colab_type": "text"
      },
      "source": [
        "<a href=\"https://colab.research.google.com/github/ipygopher/230613_bit_prediction/blob/main/ByBit_Data_Pull.ipynb\" target=\"_parent\"><img src=\"https://colab.research.google.com/assets/colab-badge.svg\" alt=\"Open In Colab\"/></a>"
      ]
    },
    {
      "cell_type": "markdown",
      "source": [
        "pyBit GitHub docs: https://github.com/bybit-exchange/pybit/blob/master/examples/http_example.py\n",
        "\n",
        "byBit API Docs: https://bybit-exchange.github.io/docs/derivativesV3/unified_margin/#t-introduction"
      ],
      "metadata": {
        "id": "DOI6e8peZpNR"
      }
    },
    {
      "cell_type": "markdown",
      "source": [
        "Package Installation"
      ],
      "metadata": {
        "id": "q0iTLalTZz8K"
      }
    },
    {
      "cell_type": "code",
      "source": [
        "# Libraries\n",
        "!pip install pybit==2.4.1"
      ],
      "metadata": {
        "colab": {
          "base_uri": "https://localhost:8080/"
        },
        "id": "n5JRlmS3Zdyf",
        "outputId": "d7cb9cbb-bf6a-4730-ed5c-ac0e659016cb"
      },
      "execution_count": null,
      "outputs": [
        {
          "output_type": "stream",
          "name": "stdout",
          "text": [
            "Looking in indexes: https://pypi.org/simple, https://us-python.pkg.dev/colab-wheels/public/simple/\n",
            "Requirement already satisfied: pybit==2.4.1 in /usr/local/lib/python3.10/dist-packages (2.4.1)\n",
            "Requirement already satisfied: requests in /usr/local/lib/python3.10/dist-packages (from pybit==2.4.1) (2.27.1)\n",
            "Requirement already satisfied: websocket-client in /usr/local/lib/python3.10/dist-packages (from pybit==2.4.1) (1.6.0)\n",
            "Requirement already satisfied: websockets in /usr/local/lib/python3.10/dist-packages (from pybit==2.4.1) (11.0.3)\n",
            "Requirement already satisfied: urllib3<1.27,>=1.21.1 in /usr/local/lib/python3.10/dist-packages (from requests->pybit==2.4.1) (1.26.16)\n",
            "Requirement already satisfied: certifi>=2017.4.17 in /usr/local/lib/python3.10/dist-packages (from requests->pybit==2.4.1) (2023.5.7)\n",
            "Requirement already satisfied: charset-normalizer~=2.0.0 in /usr/local/lib/python3.10/dist-packages (from requests->pybit==2.4.1) (2.0.12)\n",
            "Requirement already satisfied: idna<4,>=2.5 in /usr/local/lib/python3.10/dist-packages (from requests->pybit==2.4.1) (3.4)\n"
          ]
        }
      ]
    },
    {
      "cell_type": "markdown",
      "source": [
        "API Keys"
      ],
      "metadata": {
        "id": "rtUZ_PmmZ7Cw"
      }
    },
    {
      "cell_type": "code",
      "source": [
        "# <<<<<<<<< WARNING COPY THIS NOTEBOOK TO YOUR OWN COLAB FIRST - NEVER SHARE YOUR KEYS WITH ANYONE - THIS NOTEBOOK IS FOR TEACHING PURPOSES ONLY> >>>>>>>>>>>>>>>"
      ],
      "metadata": {
        "id": "zxx0pMlekys2"
      },
      "execution_count": null,
      "outputs": []
    },
    {
      "cell_type": "code",
      "source": [
        "# https://testnet.bybit.com/app/user/api-management\n",
        "api_key = \"...\" # <<<<<<<<< ENTER YOUR API KEY HERE\n",
        "api_secret = \"...\" # <<<<<<<<< ENTER YOUR API SECRET HERE\n",
        "endpoint=\"https://api-testnet.bybit.com\"\n",
        "# endpoint=\"https://api.bybit.com\""
      ],
      "metadata": {
        "id": "C3qjJh_RTPFS"
      },
      "execution_count": null,
      "outputs": []
    },
    {
      "cell_type": "markdown",
      "source": [
        "Library Imports"
      ],
      "metadata": {
        "id": "vPP7qDZvaCVg"
      }
    },
    {
      "cell_type": "code",
      "source": [
        "# Make Json printouts look good\n",
        "from pprint import pprint"
      ],
      "metadata": {
        "id": "sihDiRoASW0w"
      },
      "execution_count": null,
      "outputs": []
    },
    {
      "cell_type": "code",
      "source": [
        "# PyBit Imports\n",
        "from pybit import inverse_perpetual\n",
        "from pybit import usdt_perpetual\n",
        "from pybit import spot"
      ],
      "metadata": {
        "id": "KjDmlKHJSrs_"
      },
      "execution_count": null,
      "outputs": []
    },
    {
      "cell_type": "markdown",
      "source": [
        "FUTURES and SPOT AUTH"
      ],
      "metadata": {
        "id": "u6R5QNXdZCxf"
      }
    },
    {
      "cell_type": "code",
      "source": [
        "# Unauthenticated (for public data queries)\n",
        "session_unauth_spot = spot.HTTP(endpoint=endpoint)\n",
        "session_unauth_perpetual = usdt_perpetual.HTTP(endpoint=endpoint)"
      ],
      "metadata": {
        "id": "dq6Q1EIYTDPn"
      },
      "execution_count": null,
      "outputs": []
    },
    {
      "cell_type": "code",
      "source": [
        "# Authentication - Spot\n",
        "session_auth_spot= spot.HTTP(\n",
        "    endpoint=endpoint,\n",
        "    api_key=api_key,\n",
        "    api_secret=api_secret\n",
        ")"
      ],
      "metadata": {
        "id": "MWRzY0mBcCAE"
      },
      "execution_count": null,
      "outputs": []
    },
    {
      "cell_type": "code",
      "source": [
        "# Authentication - Futures\n",
        "session_auth_perpetual = usdt_perpetual.HTTP(\n",
        "    endpoint=endpoint,\n",
        "    api_key=api_key,\n",
        "    api_secret=api_secret\n",
        ")"
      ],
      "metadata": {
        "id": "z4F4z9x8TIk_"
      },
      "execution_count": null,
      "outputs": []
    },
    {
      "cell_type": "code",
      "source": [
        "# Check Balance - Spot\n",
        "wallet_balances = session_auth_spot.get_wallet_balance(coin=\"BTC\")\n",
        "print(wallet_balances)"
      ],
      "metadata": {
        "colab": {
          "base_uri": "https://localhost:8080/",
          "height": 381
        },
        "id": "LHlCJCsloQkp",
        "outputId": "710eb060-ad8b-41cc-e736-0d3ac340eab9"
      },
      "execution_count": null,
      "outputs": [
        {
          "output_type": "error",
          "ename": "FailedRequestError",
          "evalue": "ignored",
          "traceback": [
            "\u001b[0;31m---------------------------------------------------------------------------\u001b[0m",
            "\u001b[0;31mFailedRequestError\u001b[0m                        Traceback (most recent call last)",
            "\u001b[0;32m<ipython-input-13-7c2dd939a05a>\u001b[0m in \u001b[0;36m<cell line: 2>\u001b[0;34m()\u001b[0m\n\u001b[1;32m      1\u001b[0m \u001b[0;31m# Check Balance - Spot\u001b[0m\u001b[0;34m\u001b[0m\u001b[0;34m\u001b[0m\u001b[0m\n\u001b[0;32m----> 2\u001b[0;31m \u001b[0mwallet_balances\u001b[0m \u001b[0;34m=\u001b[0m \u001b[0msession_auth_spot\u001b[0m\u001b[0;34m.\u001b[0m\u001b[0mget_wallet_balance\u001b[0m\u001b[0;34m(\u001b[0m\u001b[0mcoin\u001b[0m\u001b[0;34m=\u001b[0m\u001b[0;34m\"BTC\"\u001b[0m\u001b[0;34m)\u001b[0m\u001b[0;34m\u001b[0m\u001b[0;34m\u001b[0m\u001b[0m\n\u001b[0m\u001b[1;32m      3\u001b[0m \u001b[0mprint\u001b[0m\u001b[0;34m(\u001b[0m\u001b[0mwallet_balances\u001b[0m\u001b[0;34m)\u001b[0m\u001b[0;34m\u001b[0m\u001b[0;34m\u001b[0m\u001b[0m\n",
            "\u001b[0;32m/usr/local/lib/python3.10/dist-packages/pybit/spot.py\u001b[0m in \u001b[0;36mget_wallet_balance\u001b[0;34m(self, **kwargs)\u001b[0m\n\u001b[1;32m    364\u001b[0m         \u001b[0msuffix\u001b[0m \u001b[0;34m=\u001b[0m \u001b[0;34m\"/spot/v1/account\"\u001b[0m\u001b[0;34m\u001b[0m\u001b[0;34m\u001b[0m\u001b[0m\n\u001b[1;32m    365\u001b[0m \u001b[0;34m\u001b[0m\u001b[0m\n\u001b[0;32m--> 366\u001b[0;31m         return self._submit_request(\n\u001b[0m\u001b[1;32m    367\u001b[0m             \u001b[0mmethod\u001b[0m\u001b[0;34m=\u001b[0m\u001b[0;34m\"GET\"\u001b[0m\u001b[0;34m,\u001b[0m\u001b[0;34m\u001b[0m\u001b[0;34m\u001b[0m\u001b[0m\n\u001b[1;32m    368\u001b[0m             \u001b[0mpath\u001b[0m\u001b[0;34m=\u001b[0m\u001b[0mself\u001b[0m\u001b[0;34m.\u001b[0m\u001b[0mendpoint\u001b[0m \u001b[0;34m+\u001b[0m \u001b[0msuffix\u001b[0m\u001b[0;34m,\u001b[0m\u001b[0;34m\u001b[0m\u001b[0;34m\u001b[0m\u001b[0m\n",
            "\u001b[0;32m/usr/local/lib/python3.10/dist-packages/pybit/_http_manager.py\u001b[0m in \u001b[0;36m_submit_request\u001b[0;34m(self, method, path, query, auth)\u001b[0m\n\u001b[1;32m    305\u001b[0m                     \u001b[0merror_msg\u001b[0m \u001b[0;34m=\u001b[0m \u001b[0;34m\"HTTP status code is not 200.\"\u001b[0m\u001b[0;34m\u001b[0m\u001b[0;34m\u001b[0m\u001b[0m\n\u001b[1;32m    306\u001b[0m                 \u001b[0mself\u001b[0m\u001b[0;34m.\u001b[0m\u001b[0mlogger\u001b[0m\u001b[0;34m.\u001b[0m\u001b[0mdebug\u001b[0m\u001b[0;34m(\u001b[0m\u001b[0;34mf\"Response text: {s.text}\"\u001b[0m\u001b[0;34m)\u001b[0m\u001b[0;34m\u001b[0m\u001b[0;34m\u001b[0m\u001b[0m\n\u001b[0;32m--> 307\u001b[0;31m                 raise FailedRequestError(\n\u001b[0m\u001b[1;32m    308\u001b[0m                     \u001b[0mrequest\u001b[0m\u001b[0;34m=\u001b[0m\u001b[0;34mf\"{method} {path}: {req_params}\"\u001b[0m\u001b[0;34m,\u001b[0m\u001b[0;34m\u001b[0m\u001b[0;34m\u001b[0m\u001b[0m\n\u001b[1;32m    309\u001b[0m                     \u001b[0mmessage\u001b[0m\u001b[0;34m=\u001b[0m\u001b[0merror_msg\u001b[0m\u001b[0;34m,\u001b[0m\u001b[0;34m\u001b[0m\u001b[0;34m\u001b[0m\u001b[0m\n",
            "\u001b[0;31mFailedRequestError\u001b[0m: You have breached the ip rate limit. (ErrCode: 403) (ErrTime: 07:20:07).\nRequest → GET https://api-testnet.bybit.com/spot/v1/account: {'api_key': '...', 'coin': 'BTC', 'recv_window': 5000, 'timestamp': 1687764007068, 'sign': '907e28f9398cc2c3073f4fcb5f58528a87c4918691520119925ef908c7649b2f'}."
          ]
        }
      ]
    },
    {
      "cell_type": "markdown",
      "source": [
        "Get Public Data"
      ],
      "metadata": {
        "id": "QrMs06Tobjjp"
      }
    },
    {
      "cell_type": "code",
      "source": [
        "# Latest Symbol Information - Futures UnAuthenticated\n",
        "data = session_unauth_perpetual.latest_information_for_symbol(symbol=\"BTCUSDT\")\n",
        "pprint(data)"
      ],
      "metadata": {
        "colab": {
          "base_uri": "https://localhost:8080/",
          "height": 364
        },
        "id": "ExOajYP4Tiv_",
        "outputId": "acc2d889-3f80-4043-83e1-f57319f01774"
      },
      "execution_count": null,
      "outputs": [
        {
          "output_type": "error",
          "ename": "FailedRequestError",
          "evalue": "ignored",
          "traceback": [
            "\u001b[0;31m---------------------------------------------------------------------------\u001b[0m",
            "\u001b[0;31mFailedRequestError\u001b[0m                        Traceback (most recent call last)",
            "\u001b[0;32m<ipython-input-14-e1a77d53d3fa>\u001b[0m in \u001b[0;36m<cell line: 2>\u001b[0;34m()\u001b[0m\n\u001b[1;32m      1\u001b[0m \u001b[0;31m# Latest Symbol Information - Futures UnAuthenticated\u001b[0m\u001b[0;34m\u001b[0m\u001b[0;34m\u001b[0m\u001b[0m\n\u001b[0;32m----> 2\u001b[0;31m \u001b[0mdata\u001b[0m \u001b[0;34m=\u001b[0m \u001b[0msession_unauth_perpetual\u001b[0m\u001b[0;34m.\u001b[0m\u001b[0mlatest_information_for_symbol\u001b[0m\u001b[0;34m(\u001b[0m\u001b[0msymbol\u001b[0m\u001b[0;34m=\u001b[0m\u001b[0;34m\"BTCUSDT\"\u001b[0m\u001b[0;34m)\u001b[0m\u001b[0;34m\u001b[0m\u001b[0;34m\u001b[0m\u001b[0m\n\u001b[0m\u001b[1;32m      3\u001b[0m \u001b[0mpprint\u001b[0m\u001b[0;34m(\u001b[0m\u001b[0mdata\u001b[0m\u001b[0;34m)\u001b[0m\u001b[0;34m\u001b[0m\u001b[0;34m\u001b[0m\u001b[0m\n",
            "\u001b[0;32m/usr/local/lib/python3.10/dist-packages/pybit/_http_manager.py\u001b[0m in \u001b[0;36mlatest_information_for_symbol\u001b[0;34m(self, **kwargs)\u001b[0m\n\u001b[1;32m    438\u001b[0m \u001b[0;34m\u001b[0m\u001b[0m\n\u001b[1;32m    439\u001b[0m         \u001b[0msuffix\u001b[0m \u001b[0;34m=\u001b[0m \u001b[0;34m\"/v2/public/tickers\"\u001b[0m\u001b[0;34m\u001b[0m\u001b[0;34m\u001b[0m\u001b[0m\n\u001b[0;32m--> 440\u001b[0;31m         return self._submit_request(\n\u001b[0m\u001b[1;32m    441\u001b[0m             \u001b[0mmethod\u001b[0m\u001b[0;34m=\u001b[0m\u001b[0;34m\"GET\"\u001b[0m\u001b[0;34m,\u001b[0m\u001b[0;34m\u001b[0m\u001b[0;34m\u001b[0m\u001b[0m\n\u001b[1;32m    442\u001b[0m             \u001b[0mpath\u001b[0m\u001b[0;34m=\u001b[0m\u001b[0mself\u001b[0m\u001b[0;34m.\u001b[0m\u001b[0mendpoint\u001b[0m \u001b[0;34m+\u001b[0m \u001b[0msuffix\u001b[0m\u001b[0;34m,\u001b[0m\u001b[0;34m\u001b[0m\u001b[0;34m\u001b[0m\u001b[0m\n",
            "\u001b[0;32m/usr/local/lib/python3.10/dist-packages/pybit/_http_manager.py\u001b[0m in \u001b[0;36m_submit_request\u001b[0;34m(self, method, path, query, auth)\u001b[0m\n\u001b[1;32m    305\u001b[0m                     \u001b[0merror_msg\u001b[0m \u001b[0;34m=\u001b[0m \u001b[0;34m\"HTTP status code is not 200.\"\u001b[0m\u001b[0;34m\u001b[0m\u001b[0;34m\u001b[0m\u001b[0m\n\u001b[1;32m    306\u001b[0m                 \u001b[0mself\u001b[0m\u001b[0;34m.\u001b[0m\u001b[0mlogger\u001b[0m\u001b[0;34m.\u001b[0m\u001b[0mdebug\u001b[0m\u001b[0;34m(\u001b[0m\u001b[0;34mf\"Response text: {s.text}\"\u001b[0m\u001b[0;34m)\u001b[0m\u001b[0;34m\u001b[0m\u001b[0;34m\u001b[0m\u001b[0m\n\u001b[0;32m--> 307\u001b[0;31m                 raise FailedRequestError(\n\u001b[0m\u001b[1;32m    308\u001b[0m                     \u001b[0mrequest\u001b[0m\u001b[0;34m=\u001b[0m\u001b[0;34mf\"{method} {path}: {req_params}\"\u001b[0m\u001b[0;34m,\u001b[0m\u001b[0;34m\u001b[0m\u001b[0;34m\u001b[0m\u001b[0m\n\u001b[1;32m    309\u001b[0m                     \u001b[0mmessage\u001b[0m\u001b[0;34m=\u001b[0m\u001b[0merror_msg\u001b[0m\u001b[0;34m,\u001b[0m\u001b[0;34m\u001b[0m\u001b[0;34m\u001b[0m\u001b[0m\n",
            "\u001b[0;31mFailedRequestError\u001b[0m: You have breached the ip rate limit. (ErrCode: 403) (ErrTime: 07:20:08).\nRequest → GET https://api-testnet.bybit.com/v2/public/tickers: {'symbol': 'BTCUSDT'}."
          ]
        }
      ]
    },
    {
      "cell_type": "code",
      "source": [
        "# Latest Symbol Information - Spot\n",
        "data = session_unauth_spot.latest_information_for_symbol(symbol=\"ETHUSDT\")\n",
        "pprint(data)"
      ],
      "metadata": {
        "colab": {
          "base_uri": "https://localhost:8080/"
        },
        "id": "HFfi6mjUboop",
        "outputId": "03decdbd-adfa-4716-d1ba-b88e65d07b33"
      },
      "execution_count": null,
      "outputs": [
        {
          "output_type": "stream",
          "name": "stdout",
          "text": [
            "{'ext_code': None,\n",
            " 'ext_info': None,\n",
            " 'result': {'bestAskPrice': '305.82',\n",
            "            'bestBidPrice': '304',\n",
            "            'highPrice': '305.82',\n",
            "            'lastPrice': '305.82',\n",
            "            'lowPrice': '299',\n",
            "            'openPrice': '305.82',\n",
            "            'quoteVolume': '131573.3021486',\n",
            "            'symbol': 'ETHUSDT',\n",
            "            'time': 1669300424823,\n",
            "            'volume': '436.99497'},\n",
            " 'ret_code': 0,\n",
            " 'ret_msg': ''}\n"
          ]
        }
      ]
    },
    {
      "cell_type": "code",
      "source": [
        "# Get orderbook - Spot\n",
        "# https://bybit-exchange.github.io/docs/derivativesV3/unified_margin/?python--pybit#t-dv_orderbook\n",
        "orderbook = session_auth_spot.orderbook(symbol=\"BTCUSDT\")\n",
        "print(orderbook)"
      ],
      "metadata": {
        "colab": {
          "base_uri": "https://localhost:8080/"
        },
        "id": "LpCen6_2Yawo",
        "outputId": "b4439e1d-e872-4abb-9f45-858a28f140f4"
      },
      "execution_count": null,
      "outputs": [
        {
          "output_type": "stream",
          "name": "stdout",
          "text": [
            "{'ret_code': 0, 'ret_msg': '', 'result': {'asks': [['16250', '129.50232'], ['16263.12', '0.00252'], ['16269.22', '0.000987'], ['16272.7', '0.011473'], ['16276.27', '0.001495'], ['16277.77', '0.002111'], ['16284', '0.001934'], ['16290', '0.000447'], ['16290.36', '0.000398'], ['16292.8', '0.000288'], ['16300', '0.002842'], ['16301.58', '0.007552'], ['16302.09', '0.000318'], ['16302.55', '0.000381'], ['16310', '0.003986'], ['16318.1', '0.000395'], ['16320', '0.006027'], ['16320.4', '0.002792'], ['16320.64', '0.002001'], ['16324', '0.016482'], ['16327.2', '0.005433'], ['16333.26', '0.002557'], ['16333.33', '287.894128'], ['16335.86', '0.0004'], ['16340.88', '0.001744'], ['16342.28', '0.052389'], ['16350.11', '0.003836'], ['16351.04', '0.001428'], ['16363.6', '0.011473'], ['16368.38', '0.00252'], ['16370.36', '0.002111'], ['16375', '0.000621'], ['16376.62', '0.000252'], ['16380.45', '0.000398'], ['16382.49', '0.001495'], ['16385', '0.000447'], ['16400', '0.09341'], ['16403.83', '0.000987'], ['16409', '0.000395'], ['16416.59', '0.002557'], ['16418.1', '0.005433'], ['16419.2', '0.002792'], ['16422.5', '0.000432'], ['16423.8', '0.002764'], ['16425.4', '0.0004'], ['16431.5', '0.110237'], ['16433.32', '0.000207'], ['16436', '0.018111'], ['16440', '0.006027'], ['16444.44', '0.000402'], ['16444.61', '1138.40924'], ['16445.36', '0.000288'], ['16452.66', '0.000187'], ['16454.5', '0.011473'], ['16455', '0.003986'], ['16455.31', '0.007552'], ['16460', '0.001934'], ['16462.95', '0.002111'], ['16464.54', '0.000381'], ['16465.64', '0.000318'], ['16469.2', '121.690421'], ['16470.54', '0.000398'], ['16471.21', '0.0002'], ['16473.64', '0.00252'], ['16479.52', '0.002001'], ['16480', '0.000447'], ['16488.71', '0.001495'], ['16489.65', '0.001428'], ['16499.9', '0.000395'], ['16499.92', '0.002557'], ['16500', '0.13001'], ['16500.5', '0.008538'], ['16501.71', '0.009674'], ['16509', '0.005433'], ['16514.94', '0.0004'], ['16517.6', '0.002764'], ['16518', '0.002792'], ['16521.65', '0.000132'], ['16530.01', '0.000252'], ['16536', '0.00852'], ['16538.44', '0.000987'], ['16545.4', '0.011473'], ['16548', '0.018111'], ['16555.54', '0.002111'], ['16555.55', '0.000402'], ['16560', '0.006027'], ['16560.63', '0.000398'], ['16561.03', '0.004064'], ['16563.58', '0.003836'], ['16567.24', '0.001744'], ['16569.28', '0.001103'], ['16569.5', '0.002835'], ['16571', '0.003527'], ['16571.43', '0.00314'], ['16573.55', '0.001226'], ['16573.56', '0.002495'], ['16573.78', '0.002564'], ['16575', '0.000447'], ['16578.9', '0.00252'], ['16579.25', '0.001211']], 'bids': [['16241.74', '0.002803'], ['16241.66', '0.000588'], ['16241.65', '0.002678'], ['16233.39', '0.003749'], ['16233.38', '0.004306'], ['16225.22', '0.001991'], ['16225.12', '0.002012'], ['16225.11', '0.001904'], ['16216.97', '0.002128'], ['16216.91', '0.002659'], ['16216.86', '0.002838'], ['16216.85', '0.002292'], ['16213.24', '0.001285'], ['16208.71', '0.002631'], ['16208.65', '0.001067'], ['16208.64', '0.003298'], ['16207.09', '0.002323'], ['16205.67', '0.003459'], ['16204.98', '0.001576'], ['16200.45', '0.001384'], ['16200.44', '0.003252'], ['16166.6', '0.00256'], ['16156.78', '0.000401'], ['16145.4', '0.005439'], ['16136.3', '0.000396'], ['16122.8', '0.002332'], ['16111.11', '0.000403'], ['16110.18', '0.000399'], ['16100', '0.01955'], ['16092.59', '0.002114'], ['16090.9', '0.003632'], ['16088.44', '0.031869'], ['16083.27', '0.00256'], ['16080', '0.006034'], ['16073.82', '0.00143'], ['16070.9', '0.11035'], ['16069.84', '0.000253'], ['16067.24', '0.000401'], ['16063.83', '0.001497'], ['16057.73', '0.000201'], ['16054.5', '0.005439'], ['16052.6', '0.002523'], ['16045.4', '0.000396'], ['16024', '0.002796'], ['16020.09', '0.000399'], ['16020', '0.00399'], ['16005', '0.000448'], ['16002.88', '0.002004'], ['16000', '0.049601'], ['15999.94', '0.00256'], ['15994.12', '0.00756'], ['15987.68', '0.000289'], ['15978.57', '0.000382'], ['15977.7', '0.000401'], ['15974.99', '0.000319'], ['15966.66', '0.000208'], ['15963.6', '0.005439'], ['15961.52', '0.052448'], ['15960', '0.006034'], ['15957.61', '0.001497'], ['15954.5', '0.000396'], ['15947.34', '0.002523'], ['15935.21', '0.00143'], ['15932', '0.001936'], ['15930', '0.000399'], ['15925.2', '0.002796'], ['15923.17', '0.003841'], ['15916.61', '0.00256'], ['15916.45', '0.000253'], ['15910', '0.000448'], ['15890.6', '0.111218'], ['15888.16', '0.002147'], ['15875', '0.004612'], ['15872.7', '0.005439'], ['15863.6', '0.000396'], ['15860.55', '0.000133'], ['15851.39', '0.001497'], ['15850.99', '0.000201'], ['15849.98', '0.000423'], ['15844', '0.002004'], ['15842.08', '0.002523'], ['15840.39', '0.00756'], ['15840', '0.006034'], ['15835.12', '0.000576'], ['15834.6', '0.051627'], ['15833.28', '0.00256'], ['15827.5', '0.000434'], ['15826.4', '0.002796'], ['15816.58', '0.000382'], ['15815', '0.000448'], ['15813.18', '0.000188'], ['15811.44', '0.000319'], ['15800', '0.442796'], ['15798.62', '0.000401'], ['15796.6', '0.00143'], ['15781.8', '0.005439'], ['15772.7', '0.000396'], ['15763.06', '0.000253'], ['15762.74', '0.00054'], ['15756', '0.001936']], 'time': 1669300482169}, 'ext_info': None, 'ext_code': None}\n"
          ]
        }
      ]
    },
    {
      "cell_type": "code",
      "source": [
        "# Get orderbook - Futures\n",
        "# https://bybit-exchange.github.io/docs/derivativesV3/unified_margin/?python--pybit#t-dv_orderbook\n",
        "orderbook = session_auth_perpetual.orderbook(symbol=\"BTCUSDT\")\n",
        "print(orderbook)"
      ],
      "metadata": {
        "colab": {
          "base_uri": "https://localhost:8080/"
        },
        "id": "2QlP0MaScqNE",
        "outputId": "64ef8160-67ee-4f19-df0e-4ed5b149b191"
      },
      "execution_count": null,
      "outputs": [
        {
          "output_type": "stream",
          "name": "stdout",
          "text": [
            "{'ret_code': 0, 'ret_msg': 'OK', 'result': [{'symbol': 'BTCUSDT', 'price': '16494.5', 'side': 'Buy', 'size': 12.379}, {'symbol': 'BTCUSDT', 'price': '16494', 'side': 'Buy', 'size': 9.544}, {'symbol': 'BTCUSDT', 'price': '16493.5', 'side': 'Buy', 'size': 0.196}, {'symbol': 'BTCUSDT', 'price': '16492.5', 'side': 'Buy', 'size': 0.443}, {'symbol': 'BTCUSDT', 'price': '16491.5', 'side': 'Buy', 'size': 0.339}, {'symbol': 'BTCUSDT', 'price': '16491', 'side': 'Buy', 'size': 0.001}, {'symbol': 'BTCUSDT', 'price': '16490.5', 'side': 'Buy', 'size': 0.311}, {'symbol': 'BTCUSDT', 'price': '16489.5', 'side': 'Buy', 'size': 0.228}, {'symbol': 'BTCUSDT', 'price': '16488.5', 'side': 'Buy', 'size': 0.263}, {'symbol': 'BTCUSDT', 'price': '16488', 'side': 'Buy', 'size': 0.001}, {'symbol': 'BTCUSDT', 'price': '16487.5', 'side': 'Buy', 'size': 0.321}, {'symbol': 'BTCUSDT', 'price': '16486.5', 'side': 'Buy', 'size': 0.305}, {'symbol': 'BTCUSDT', 'price': '16486', 'side': 'Buy', 'size': 0.003}, {'symbol': 'BTCUSDT', 'price': '16485.5', 'side': 'Buy', 'size': 0.218}, {'symbol': 'BTCUSDT', 'price': '16484.5', 'side': 'Buy', 'size': 0.179}, {'symbol': 'BTCUSDT', 'price': '16484', 'side': 'Buy', 'size': 0.001}, {'symbol': 'BTCUSDT', 'price': '16483.5', 'side': 'Buy', 'size': 0.339}, {'symbol': 'BTCUSDT', 'price': '16482.5', 'side': 'Buy', 'size': 0.217}, {'symbol': 'BTCUSDT', 'price': '16481.5', 'side': 'Buy', 'size': 0.238}, {'symbol': 'BTCUSDT', 'price': '16481', 'side': 'Buy', 'size': 0.001}, {'symbol': 'BTCUSDT', 'price': '16480.5', 'side': 'Buy', 'size': 0.391}, {'symbol': 'BTCUSDT', 'price': '16480', 'side': 'Buy', 'size': 0.001}, {'symbol': 'BTCUSDT', 'price': '16479.5', 'side': 'Buy', 'size': 0.169}, {'symbol': 'BTCUSDT', 'price': '16478.5', 'side': 'Buy', 'size': 0.201}, {'symbol': 'BTCUSDT', 'price': '16477.5', 'side': 'Buy', 'size': 0.187}, {'symbol': 'BTCUSDT', 'price': '16495', 'side': 'Sell', 'size': 15.32}, {'symbol': 'BTCUSDT', 'price': '16495.5', 'side': 'Sell', 'size': 0.405}, {'symbol': 'BTCUSDT', 'price': '16496', 'side': 'Sell', 'size': 8.482}, {'symbol': 'BTCUSDT', 'price': '16496.5', 'side': 'Sell', 'size': 0.001}, {'symbol': 'BTCUSDT', 'price': '16497', 'side': 'Sell', 'size': 0.09}, {'symbol': 'BTCUSDT', 'price': '16498.5', 'side': 'Sell', 'size': 0.022}, {'symbol': 'BTCUSDT', 'price': '16499', 'side': 'Sell', 'size': 0.002}, {'symbol': 'BTCUSDT', 'price': '16499.5', 'side': 'Sell', 'size': 0.057}, {'symbol': 'BTCUSDT', 'price': '16500', 'side': 'Sell', 'size': 201.452}, {'symbol': 'BTCUSDT', 'price': '16501.5', 'side': 'Sell', 'size': 0.001}, {'symbol': 'BTCUSDT', 'price': '16503.5', 'side': 'Sell', 'size': 0.002}, {'symbol': 'BTCUSDT', 'price': '16505.5', 'side': 'Sell', 'size': 0.087}, {'symbol': 'BTCUSDT', 'price': '16506.5', 'side': 'Sell', 'size': 0.018}, {'symbol': 'BTCUSDT', 'price': '16507', 'side': 'Sell', 'size': 0.002}, {'symbol': 'BTCUSDT', 'price': '16510', 'side': 'Sell', 'size': 0.002}, {'symbol': 'BTCUSDT', 'price': '16511.5', 'side': 'Sell', 'size': 0.002}, {'symbol': 'BTCUSDT', 'price': '16514', 'side': 'Sell', 'size': 0.003}, {'symbol': 'BTCUSDT', 'price': '16516', 'side': 'Sell', 'size': 0.001}, {'symbol': 'BTCUSDT', 'price': '16517', 'side': 'Sell', 'size': 0.013}, {'symbol': 'BTCUSDT', 'price': '16519.5', 'side': 'Sell', 'size': 0.003}, {'symbol': 'BTCUSDT', 'price': '16520', 'side': 'Sell', 'size': 0.003}, {'symbol': 'BTCUSDT', 'price': '16521', 'side': 'Sell', 'size': 0.003}, {'symbol': 'BTCUSDT', 'price': '16521.5', 'side': 'Sell', 'size': 0.024}, {'symbol': 'BTCUSDT', 'price': '16522.5', 'side': 'Sell', 'size': 0.441}, {'symbol': 'BTCUSDT', 'price': '16523', 'side': 'Sell', 'size': 0.002}], 'ext_code': '', 'ext_info': '', 'time_now': '1669300501.346454'}\n"
          ]
        }
      ]
    },
    {
      "cell_type": "markdown",
      "source": [
        "Private Data"
      ],
      "metadata": {
        "id": "06OHgdYFdeLs"
      }
    },
    {
      "cell_type": "code",
      "source": [
        "# Place Market Order to Open Trade - Spot\n",
        "# https://bybit-exchange.github.io/docs/spot/v3/#t-placeactive\n",
        "market_order = session_auth_spot.place_active_order(symbol=\"BTCUSDT\", side=\"Sell\", qty=0.02, timeinforce=\"GoodTillCancel\", type=\"market\")\n",
        "pprint(market_order)"
      ],
      "metadata": {
        "colab": {
          "base_uri": "https://localhost:8080/"
        },
        "id": "CV1fhjNJdhf0",
        "outputId": "db4b1a20-7718-47b4-e13b-7ee5ee4676f1"
      },
      "execution_count": null,
      "outputs": [
        {
          "output_type": "stream",
          "name": "stdout",
          "text": [
            "{'ext_code': '',\n",
            " 'ext_info': None,\n",
            " 'result': {'accountId': '467349',\n",
            "            'executedQty': '0',\n",
            "            'orderId': '1296583496627691264',\n",
            "            'orderLinkId': '1669300797469727',\n",
            "            'origQty': '0.02',\n",
            "            'price': '0',\n",
            "            'side': 'SELL',\n",
            "            'status': 'NEW',\n",
            "            'symbol': 'BTCUSDT',\n",
            "            'symbolName': 'BTCUSDT',\n",
            "            'timeInForce': 'GTC',\n",
            "            'transactTime': '1669300797476',\n",
            "            'type': 'MARKET'},\n",
            " 'ret_code': 0,\n",
            " 'ret_msg': 'OK',\n",
            " 'time_now': '1669300797.482234'}\n"
          ]
        }
      ]
    },
    {
      "cell_type": "code",
      "source": [
        "# Place Market Order to Open Trade - Futures\n",
        "# https://bybit-exchange.github.io/docs/spot/v3/#t-placeactive\n",
        "market_order_futures = session_auth_perpetual.place_active_order(symbol=\"BTCUSDT\", side=\"Buy\", qty=0.02, time_in_force=\"GoodTillCancel\", order_type=\"Market\", reduce_only=False, close_on_trigger=False)\n",
        "pprint(market_order_futures)"
      ],
      "metadata": {
        "colab": {
          "base_uri": "https://localhost:8080/"
        },
        "id": "Kp5ENZ23guAB",
        "outputId": "87de4b20-6f96-4a1e-d7a7-adf9f3f088e7"
      },
      "execution_count": null,
      "outputs": [
        {
          "output_type": "stream",
          "name": "stdout",
          "text": [
            "{'ext_code': '',\n",
            " 'ext_info': '',\n",
            " 'rate_limit': 100,\n",
            " 'rate_limit_reset_ms': 1669300878565,\n",
            " 'rate_limit_status': 98,\n",
            " 'result': {'close_on_trigger': False,\n",
            "            'created_time': '2022-11-24T14:41:18Z',\n",
            "            'cum_exec_fee': 0,\n",
            "            'cum_exec_qty': 0,\n",
            "            'cum_exec_value': 0,\n",
            "            'last_exec_price': 0,\n",
            "            'order_id': '12bdf305-8bba-4c8b-9bc7-cd582265d97a',\n",
            "            'order_link_id': '',\n",
            "            'order_status': 'Created',\n",
            "            'order_type': 'Market',\n",
            "            'position_idx': 1,\n",
            "            'price': 17325,\n",
            "            'qty': 0.02,\n",
            "            'reduce_only': False,\n",
            "            'side': 'Buy',\n",
            "            'sl_trigger_by': 'UNKNOWN',\n",
            "            'stop_loss': 0,\n",
            "            'symbol': 'BTCUSDT',\n",
            "            'take_profit': 0,\n",
            "            'time_in_force': 'ImmediateOrCancel',\n",
            "            'tp_trigger_by': 'UNKNOWN',\n",
            "            'updated_time': '2022-11-24T14:41:18Z',\n",
            "            'user_id': 467347},\n",
            " 'ret_code': 0,\n",
            " 'ret_msg': 'OK',\n",
            " 'time_now': '1669300878.567636'}\n"
          ]
        }
      ]
    },
    {
      "cell_type": "code",
      "source": [
        "# Place Market Order to Close Trade - Futures\n",
        "# https://bybit-exchange.github.io/docs/spot/v3/#t-placeactive\n",
        "market_order_futures_close = session_auth_perpetual.place_active_order(symbol=\"BTCUSDT\", side=\"Sell\", qty=0.02, time_in_force=\"GoodTillCancel\", order_type=\"Market\", reduce_only=True, close_on_trigger=True)\n",
        "pprint(market_order_futures_close)"
      ],
      "metadata": {
        "colab": {
          "base_uri": "https://localhost:8080/"
        },
        "id": "Pk8XW9P7lQg6",
        "outputId": "8947f9fe-de78-418e-e213-40a046bd3251"
      },
      "execution_count": null,
      "outputs": [
        {
          "output_type": "stream",
          "name": "stdout",
          "text": [
            "{'ext_code': '',\n",
            " 'ext_info': '',\n",
            " 'rate_limit': 100,\n",
            " 'rate_limit_reset_ms': 1669300918712,\n",
            " 'rate_limit_status': 97,\n",
            " 'result': {'close_on_trigger': True,\n",
            "            'created_time': '2022-11-24T14:41:58Z',\n",
            "            'cum_exec_fee': 0,\n",
            "            'cum_exec_qty': 0,\n",
            "            'cum_exec_value': 0,\n",
            "            'last_exec_price': 0,\n",
            "            'order_id': 'b434a3df-726a-4b91-88d9-f62129aab963',\n",
            "            'order_link_id': '',\n",
            "            'order_status': 'Created',\n",
            "            'order_type': 'Market',\n",
            "            'position_idx': 1,\n",
            "            'price': 15675,\n",
            "            'qty': 0.02,\n",
            "            'reduce_only': True,\n",
            "            'side': 'Sell',\n",
            "            'sl_trigger_by': 'UNKNOWN',\n",
            "            'stop_loss': 0,\n",
            "            'symbol': 'BTCUSDT',\n",
            "            'take_profit': 0,\n",
            "            'time_in_force': 'ImmediateOrCancel',\n",
            "            'tp_trigger_by': 'UNKNOWN',\n",
            "            'updated_time': '2022-11-24T14:41:58Z',\n",
            "            'user_id': 467347},\n",
            " 'ret_code': 0,\n",
            " 'ret_msg': 'OK',\n",
            " 'time_now': '1669300918.714810'}\n"
          ]
        }
      ]
    },
    {
      "cell_type": "markdown",
      "source": [
        "WEBSOCKET"
      ],
      "metadata": {
        "id": "Z5Aw7LVto4gp"
      }
    },
    {
      "cell_type": "code",
      "source": [
        "from time import sleep\n",
        "from pybit import usdt_perpetual"
      ],
      "metadata": {
        "id": "quLFT-1ro58C"
      },
      "execution_count": null,
      "outputs": []
    },
    {
      "cell_type": "code",
      "source": [
        "# Create Websocket\n",
        "ws_linear = usdt_perpetual.WebSocket(\n",
        "    test=True,\n",
        "    ping_interval=30,  # the default is 30\n",
        "    ping_timeout=10,  # the default is 10\n",
        "    domain=\"bybit\"  # the default is \"bybit\"\n",
        ")"
      ],
      "metadata": {
        "id": "_TyYAPudz9sZ"
      },
      "execution_count": null,
      "outputs": []
    },
    {
      "cell_type": "code",
      "source": [
        "# Call websocket but keep script running\n",
        "\n",
        "# interact with message\n",
        "def handle_message(msg):\n",
        "  print(msg)\n",
        "\n",
        "ws_linear.kline_stream(\n",
        "    handle_message, \"BTCUSDT\", \"D\"\n",
        ")\n",
        "\n",
        "while True:\n",
        "    sleep(1)"
      ],
      "metadata": {
        "colab": {
          "base_uri": "https://localhost:8080/",
          "height": 342
        },
        "id": "zKhvAHqe0fRP",
        "outputId": "d0ee18f8-ac2c-41ff-c3b5-f3ec72e9868d"
      },
      "execution_count": null,
      "outputs": [
        {
          "output_type": "stream",
          "name": "stderr",
          "text": [
            "WARNING:websocket:websocket connected\n"
          ]
        },
        {
          "output_type": "stream",
          "name": "stdout",
          "text": [
            "{'topic': 'candle.D.BTCUSDT', 'data': [{'start': 1669248000, 'end': 1669334400, 'period': 'D', 'open': 16650, 'close': 16494, 'high': 16750, 'low': 16300, 'volume': '6480.623', 'turnover': '107561390.257', 'confirm': False, 'cross_seq': 7571651685, 'timestamp': 1669301094880682}], 'timestamp_e6': 1669301094880682}\n",
            "{'topic': 'candle.D.BTCUSDT', 'data': [{'start': 1669248000, 'end': 1669334400, 'period': 'D', 'open': 16650, 'close': 16494, 'high': 16750, 'low': 16300, 'volume': '6480.624', 'turnover': '107561406.751', 'confirm': False, 'cross_seq': 7571651789, 'timestamp': 1669301098881738}], 'timestamp_e6': 1669301098881738}\n",
            "{'topic': 'candle.D.BTCUSDT', 'data': [{'start': 1669248000, 'end': 1669334400, 'period': 'D', 'open': 16650, 'close': 16494, 'high': 16750, 'low': 16300, 'volume': '6480.625', 'turnover': '107561423.245', 'confirm': False, 'cross_seq': 7571651794, 'timestamp': 1669301099882547}], 'timestamp_e6': 1669301099882547}\n",
            "{'topic': 'candle.D.BTCUSDT', 'data': [{'start': 1669248000, 'end': 1669334400, 'period': 'D', 'open': 16650, 'close': 16494, 'high': 16750, 'low': 16300, 'volume': '6480.71', 'turnover': '107562825.235', 'confirm': False, 'cross_seq': 7571651795, 'timestamp': 1669301100882219}], 'timestamp_e6': 1669301100882219}\n",
            "{'topic': 'candle.D.BTCUSDT', 'data': [{'start': 1669248000, 'end': 1669334400, 'period': 'D', 'open': 16650, 'close': 16494, 'high': 16750, 'low': 16300, 'volume': '6484.304', 'turnover': '107622104.671', 'confirm': False, 'cross_seq': 7571651883, 'timestamp': 1669301104881038}], 'timestamp_e6': 1669301104881038}\n",
            "{'topic': 'candle.D.BTCUSDT', 'data': [{'start': 1669248000, 'end': 1669334400, 'period': 'D', 'open': 16650, 'close': 16494, 'high': 16750, 'low': 16300, 'volume': '6484.465', 'turnover': '107624760.1745', 'confirm': False, 'cross_seq': 7571651885, 'timestamp': 1669301105880253}], 'timestamp_e6': 1669301105880253}\n"
          ]
        },
        {
          "output_type": "error",
          "ename": "KeyboardInterrupt",
          "evalue": "ignored",
          "traceback": [
            "\u001b[0;31m---------------------------------------------------------------------------\u001b[0m",
            "\u001b[0;31mKeyboardInterrupt\u001b[0m                         Traceback (most recent call last)",
            "\u001b[0;32m<ipython-input-25-639e2375b310>\u001b[0m in \u001b[0;36m<module>\u001b[0;34m\u001b[0m\n\u001b[1;32m     10\u001b[0m \u001b[0;34m\u001b[0m\u001b[0m\n\u001b[1;32m     11\u001b[0m \u001b[0;32mwhile\u001b[0m \u001b[0;32mTrue\u001b[0m\u001b[0;34m:\u001b[0m\u001b[0;34m\u001b[0m\u001b[0;34m\u001b[0m\u001b[0m\n\u001b[0;32m---> 12\u001b[0;31m     \u001b[0msleep\u001b[0m\u001b[0;34m(\u001b[0m\u001b[0;36m1\u001b[0m\u001b[0;34m)\u001b[0m\u001b[0;34m\u001b[0m\u001b[0;34m\u001b[0m\u001b[0m\n\u001b[0m",
            "\u001b[0;31mKeyboardInterrupt\u001b[0m: "
          ]
        }
      ]
    },
    {
      "cell_type": "code",
      "source": [],
      "metadata": {
        "id": "EVcP0lcM0ndH"
      },
      "execution_count": null,
      "outputs": []
    }
  ]
}